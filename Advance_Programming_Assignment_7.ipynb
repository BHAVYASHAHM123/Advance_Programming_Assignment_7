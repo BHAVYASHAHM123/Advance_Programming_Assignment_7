{
  "cells": [
    {
      "cell_type": "markdown",
      "id": "c2ad410b",
      "metadata": {
        "id": "c2ad410b"
      },
      "source": [
        "Q1). Write a function that counts how many concentric layers a rug.\n",
        "\n",
        "Examples\n",
        "\n",
        "count_layers([\n",
        "  \"AAAA\",\n",
        "  \"ABBA\",\n",
        "  \"AAAA\"\n",
        "]) ➞ 2\n",
        "\n",
        "count_layers([\n",
        "  \"AAAAAAAAA\",\n",
        "  \"ABBBBBBBA\",\n",
        "  \"ABBAAABBA\",\n",
        "  \"ABBBBBBBA\",\n",
        "  \"AAAAAAAAA\"\n",
        "]) ➞ 3\n",
        "\n",
        "count_layers([\n",
        "  \"AAAAAAAAAAA\",\n",
        "  \"AABBBBBBBAA\",\n",
        "  \"AABCCCCCBAA\",\n",
        "  \"AABCAAACBAA\",\n",
        "  \"AABCADACBAA\",\n",
        "  \"AABCAAACBAA\",\n",
        "  \"AABCCCCCBAA\",\n",
        "  \"AABBBBBBBAA\",\n",
        "  \"AAAAAAAAAAA\"\n",
        "]) ➞ 5\n"
      ]
    },
    {
      "cell_type": "code",
      "execution_count": 1,
      "id": "81eeeb77",
      "metadata": {
        "colab": {
          "base_uri": "https://localhost:8080/"
        },
        "id": "81eeeb77",
        "outputId": "385111ac-c542-4ae0-afc1-89deb9229b33"
      },
      "outputs": [
        {
          "output_type": "stream",
          "name": "stdout",
          "text": [
            "2\n",
            "3\n",
            "5\n"
          ]
        }
      ],
      "source": [
        "import numpy as np\n",
        "\n",
        "def count_layers(arr):\n",
        "    arr1 = np.unique(arr)\n",
        "    return arr1.size\n",
        "\n",
        "print(count_layers([ \"AAAA\", \"ABBA\", \"AAAA\" ]))\n",
        "print(count_layers([ \"AAAAAAAAA\", \"ABBBBBBBA\", \"ABBAAABBA\", \"ABBBBBBBA\", \"AAAAAAAAA\" ]) )\n",
        "print(count_layers([ \"AAAAAAAAAAA\", \"AABBBBBBBAA\", \"AABCCCCCBAA\", \"AABCAAACBAA\", \"AABCADACBAA\", \"AABCAAACBAA\", \"AABCCCCCBAA\", \"AABBBBBBBAA\", \"AAAAAAAAAAA\" ]) )"
      ]
    },
    {
      "cell_type": "markdown",
      "id": "d8f1711c",
      "metadata": {
        "id": "d8f1711c"
      },
      "source": [
        "Q2). There are many different styles of music and many albums exhibit multiple styles. Create a function that takes a list of musical styles from albums and returns how many styles are unique.\n",
        "\n",
        "Examples\n",
        "\n",
        "unique_styles([\n",
        "  \"Dub,Dancehall\",\n",
        "  \"Industrial,Heavy Metal\",\n",
        "  \"Techno,Dubstep\",\n",
        "  \"Synth-pop,Euro-Disco\",\n",
        "  \"Industrial,Techno,Minimal\"\n",
        "]) ➞ 9\n",
        "\n",
        "unique_styles([\n",
        "  \"Soul\",\n",
        "  \"House,Folk\",\n",
        "  \"Trance,Downtempo,Big Beat,House\",\n",
        "  \"Deep House\",\n",
        "  \"Soul\"\n",
        "]) ➞ 7"
      ]
    },
    {
      "cell_type": "code",
      "execution_count": 2,
      "id": "fa196c2d",
      "metadata": {
        "colab": {
          "base_uri": "https://localhost:8080/"
        },
        "id": "fa196c2d",
        "outputId": "3b510b89-47da-498d-bb4f-c9c8820d9888"
      },
      "outputs": [
        {
          "output_type": "stream",
          "name": "stdout",
          "text": [
            "9\n",
            "7\n"
          ]
        }
      ],
      "source": [
        "import numpy as np\n",
        "\n",
        "def unique_styles(l):\n",
        "    l1 = []\n",
        "    for item in l:\n",
        "        item = item.split(',')\n",
        "        for j in item:\n",
        "            l1.append(j) \n",
        "    \n",
        "    return len(set(l1))\n",
        "        \n",
        "        \n",
        "print(unique_styles([ \"Dub,Dancehall\", \"Industrial,Heavy Metal\", \"Techno,Dubstep\", \"Synth-pop,Euro-Disco\", \"Industrial,Techno,Minimal\" ]))\n",
        "print(unique_styles([ \"Soul\", \"House,Folk\", \"Trance,Downtempo,Big Beat,House\", \"Deep House\", \"Soul\" ]) )"
      ]
    },
    {
      "cell_type": "markdown",
      "id": "190f96d8",
      "metadata": {
        "id": "190f96d8"
      },
      "source": [
        "Q3). Create a function that finds a target number in a list of prime numbers. Implement a binary search algorithm in your function. The target number will be from 2 through 97. If the target is prime then return \"yes\" else return \"no\".\n",
        "\n",
        "Examples\n",
        "\n",
        "primes = [2, 3, 5, 7, 11, 13, 17, 19, 23, 29, 31, 37, 41, 43, 47, 53, 59, 61, 67, 71, 73, 79, 83, 89, 97]\n",
        "\n",
        "\n",
        "is_prime(primes, 3) ➞ \"yes\"\n",
        "\n",
        "is_prime(primes, 4) ➞ \"no\"\n",
        "\n",
        "is_prime(primes, 67) ➞ \"yes\"\n",
        "\n",
        "is_prime(primes, 36) ➞ \"no\""
      ]
    },
    {
      "cell_type": "code",
      "execution_count": 3,
      "id": "1bd3f86c",
      "metadata": {
        "colab": {
          "base_uri": "https://localhost:8080/"
        },
        "id": "1bd3f86c",
        "outputId": "0ec924ee-9c41-41c7-e15c-cb74117f3cc2"
      },
      "outputs": [
        {
          "output_type": "stream",
          "name": "stdout",
          "text": [
            "yes\n",
            "no\n",
            "yes\n",
            "no\n"
          ]
        }
      ],
      "source": [
        "def bin_search(l,low, high,key):\n",
        "\n",
        "    if high >= low:\n",
        "        mid = int ((low + high) / 2)\n",
        "    \n",
        "        if key == l[mid]:\n",
        "            return mid\n",
        "    \n",
        "        if l[mid] > key:\n",
        "            return bin_search(l,low,mid - 1, key)\n",
        "        \n",
        "        else:\n",
        "            return bin_search(l, mid+1,high, key)\n",
        "        \n",
        "    else:\n",
        "        return -1\n",
        " \n",
        "def is_prime(primes,n):\n",
        "    if n in range(2,97):\n",
        "        result = bin_search(sorted(primes), 0, len(primes), n)\n",
        "        \n",
        "        if result > 0:\n",
        "            return 'yes'\n",
        "        else:\n",
        "            return 'no'\n",
        "    else:\n",
        "        return 'Elemnet is not in the list primes'\n",
        "primes = [2, 3, 5, 7, 11, 13, 17, 19, 23, 29, 31, 37, 41, 43, 47, 53, 59, 61, 67, 71, 73, 79, 83, 89, 97]\n",
        "\n",
        "print(is_prime(primes, 3))\n",
        "print(is_prime(primes, 4))\n",
        "print(is_prime(primes, 67))\n",
        "print(is_prime(primes, 36))"
      ]
    },
    {
      "cell_type": "markdown",
      "id": "726d4231",
      "metadata": {
        "id": "726d4231"
      },
      "source": [
        "Q4). Create a function that takes in n, a, b and returns the number of positive values raised to the nth power that lie in the range [a, b], inclusive.\n",
        "\n",
        "Examples\n",
        "\n",
        "power_ranger(2, 49, 65) ➞ 2\n",
        "2 squares (n^2) lie between 49 and 65, 49 (7^2) and 64 (8^2)\n",
        "\n",
        "power_ranger(3, 1, 27) ➞ 3\n",
        "3 cubes (n^3) lie between 1 and 27, 1 (1^3), 8 (2^3) and 27 (3^3)\n",
        "\n",
        "power_ranger(10, 1, 5) ➞ 1\n",
        "1 value raised to the 10th power lies between 1 and 5, 1 (1^10)\n",
        "\n",
        "power_ranger(5, 31, 33) ➞ 1\n",
        "\n",
        "power_ranger(4, 250, 1300) ➞ 3\n"
      ]
    },
    {
      "cell_type": "code",
      "execution_count": 4,
      "id": "eca0b60b",
      "metadata": {
        "colab": {
          "base_uri": "https://localhost:8080/"
        },
        "id": "eca0b60b",
        "outputId": "3f7c681e-c6cf-4f76-c38f-6cb5769f30e8"
      },
      "outputs": [
        {
          "output_type": "stream",
          "name": "stdout",
          "text": [
            "2\n",
            "3\n",
            "1\n",
            "1\n",
            "3\n"
          ]
        }
      ],
      "source": [
        "def power_ranger(n,a,b):\n",
        "    count = 0\n",
        "    a1 = int(a**(1/n))\n",
        "    b1 = int(b**(1/n))\n",
        "    for i in range(a1,b1+1):\n",
        "        if i**n in range(a,b+1):\n",
        "            count += 1\n",
        "    return count\n",
        "\n",
        "print(power_ranger(2,49,65))\n",
        "print(power_ranger(3, 1, 27))\n",
        "print(power_ranger(10, 1, 5))\n",
        "print(power_ranger(5,31,33))    \n",
        "print(power_ranger(4,250,1300))    "
      ]
    },
    {
      "cell_type": "markdown",
      "id": "cdf74a60",
      "metadata": {
        "id": "cdf74a60"
      },
      "source": [
        "Q5). Given a number, return the difference between the maximum and minimum numbers that can be formed when the digits are rearranged.\n",
        "\n",
        "Examples\n",
        "\n",
        "rearranged_difference(972882) ➞ 760833\n",
        " 988722 - 227889 = 760833\n",
        "\n",
        "rearranged_difference(3320707) ➞ 7709823\n",
        " 7733200 - 23377 = 7709823\n",
        "\n",
        "rearranged_difference(90010) ➞ 90981\n",
        " 91000 - 19 = 90981\n"
      ]
    },
    {
      "cell_type": "code",
      "execution_count": 5,
      "id": "cb89d7ae",
      "metadata": {
        "colab": {
          "base_uri": "https://localhost:8080/"
        },
        "id": "cb89d7ae",
        "outputId": "17f86a4a-abb8-42ad-fcf2-44f4af37b067"
      },
      "outputs": [
        {
          "output_type": "stream",
          "name": "stdout",
          "text": [
            "760833\n",
            "7709823\n",
            "90981\n"
          ]
        }
      ],
      "source": [
        "def rearranged_difference(n):\n",
        "    n = str(n)\n",
        "    nl,nh = '', ''\n",
        "   \n",
        "    n_high = sorted(n, reverse = True)\n",
        "    n_low = sorted(n)\n",
        "    \n",
        "    for i in n_low:\n",
        "        nl += ''.join(i)\n",
        "    for j in n_high:\n",
        "        nh += ''.join(j)\n",
        "    return int(nh) - int(nl)\n",
        "    \n",
        "print(rearranged_difference(972882))\n",
        "print(rearranged_difference(3320707))\n",
        "print(rearranged_difference(90010))"
      ]
    },
    {
      "cell_type": "code",
      "source": [
        ""
      ],
      "metadata": {
        "id": "c0QArfUEsfuZ"
      },
      "id": "c0QArfUEsfuZ",
      "execution_count": null,
      "outputs": []
    }
  ],
  "metadata": {
    "kernelspec": {
      "display_name": "Python 3",
      "language": "python",
      "name": "python3"
    },
    "language_info": {
      "codemirror_mode": {
        "name": "ipython",
        "version": 3
      },
      "file_extension": ".py",
      "mimetype": "text/x-python",
      "name": "python",
      "nbconvert_exporter": "python",
      "pygments_lexer": "ipython3",
      "version": "3.8.8"
    },
    "colab": {
      "name": "Advance_Programming_Assignment_7.ipynb",
      "provenance": []
    }
  },
  "nbformat": 4,
  "nbformat_minor": 5
}